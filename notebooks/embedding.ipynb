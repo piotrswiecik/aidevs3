{
 "cells": [
  {
   "cell_type": "markdown",
   "metadata": {},
   "source": [
    "This example demonstrates shortcoming of naive cosine similiarity search without any document optimization techniques.\n",
    "\n",
    "The results could be improved by using more \"smart\" embeddings (_jina_embeddings_v3_ for example) or by enriching queries and data."
   ]
  },
  {
   "cell_type": "code",
   "execution_count": 5,
   "metadata": {},
   "outputs": [
    {
     "data": {
      "text/plain": [
       "True"
      ]
     },
     "execution_count": 5,
     "metadata": {},
     "output_type": "execute_result"
    }
   ],
   "source": [
    "from qdrant_client import QdrantClient\n",
    "from qdrant_client.models import VectorParams\n",
    "from qdrant_client.http.models.models import Distance\n",
    "from openai import OpenAI\n",
    "import uuid\n",
    "import os\n",
    "\n",
    "from dotenv import load_dotenv\n",
    "\n",
    "load_dotenv()"
   ]
  },
  {
   "cell_type": "code",
   "execution_count": 25,
   "metadata": {},
   "outputs": [],
   "source": [
    "\n",
    "class VectorService:\n",
    "    def __init__(self, url, key, ai: OpenAI):\n",
    "        self.url = url\n",
    "        self.key = key\n",
    "        self.client = QdrantClient(url=url, api_key=key)\n",
    "        self.ai = ai\n",
    "\n",
    "    def create_collection(self, name):\n",
    "        col = self.client.collection_exists(name)\n",
    "        if not col:\n",
    "            self.client.create_collection(name, VectorParams(\n",
    "                size=1536, distance=Distance.COSINE\n",
    "            ))\n",
    "\n",
    "    def add_points(self, col_name, points: list[dict]):\n",
    "        for point in points:\n",
    "            point[\"id\"] = str(uuid.uuid4())\n",
    "            point[\"embedding\"] = self.ai.embeddings.create(\n",
    "                model=\"text-embedding-3-small\", input=point[\"text\"]\n",
    "            ).data[0].embedding\n",
    "        data = [\n",
    "            {\n",
    "                \"id\": point[\"id\"], \"vector\": point[\"embedding\"],\n",
    "                \"payload\": {\"role\": point.get(\"role\"), \"text\": point[\"text\"]}\n",
    "            }\n",
    "        ]\n",
    "        self.client.upsert(collection_name=col_name, points=data, wait=True)\n",
    "\n",
    "    def search(self, col_name, query, limit):\n",
    "        embedding = self.ai.embeddings.create(\n",
    "            model=\"text-embedding-3-small\", input=query\n",
    "        ).data[0].embedding\n",
    "        return self.client.search(col_name, query_vector=embedding, limit=limit, with_payload=True)"
   ]
  },
  {
   "cell_type": "code",
   "execution_count": 27,
   "metadata": {},
   "outputs": [],
   "source": [
    "openai = OpenAI(api_key=os.getenv(\"OPENAI_API_KEY\"))\n",
    "vector_service = VectorService(\n",
    "    url=os.getenv(\"QDRANT_REMOTE_URL\"), key=os.getenv(\"QDRANT_API_KEY\"), ai=openai\n",
    ")"
   ]
  },
  {
   "cell_type": "code",
   "execution_count": 11,
   "metadata": {},
   "outputs": [],
   "source": [
    "data = [\n",
    "    'Apple (Consumer Electronics)',\n",
    "    'Tesla (Automotive)',\n",
    "    'Microsoft (Software)',\n",
    "    'Google (Internet Services)',\n",
    "    'Nvidia (Semiconductors)',\n",
    "    'Meta (Social Media)',\n",
    "    'X Corp (Social Media)',\n",
    "    'Tech•sistence (Newsletter)'\n",
    "]\n",
    "\n",
    "queries = [ 'Car company', 'Macbooks', 'Facebook', 'Newsletter' ];"
   ]
  },
  {
   "cell_type": "code",
   "execution_count": 12,
   "metadata": {},
   "outputs": [],
   "source": [
    "vector_service.create_collection(\"emb-01\")"
   ]
  },
  {
   "cell_type": "code",
   "execution_count": 23,
   "metadata": {},
   "outputs": [],
   "source": [
    "for item in data:\n",
    "    vector_service.add_points(\"emb-01\", [{\"text\": item, \"role\": \"normal\"}])"
   ]
  },
  {
   "cell_type": "code",
   "execution_count": 33,
   "metadata": {},
   "outputs": [
    {
     "name": "stdout",
     "output_type": "stream",
     "text": [
      "Matchning query:  Car company\n",
      "Best match: {'role': 'normal', 'text': 'Tesla (Automotive)'}\n",
      "Matchning query:  Macbooks\n",
      "Best match: {'role': 'normal', 'text': 'Apple (Consumer Electronics)'}\n",
      "Matchning query:  Facebook\n",
      "Best match: {'role': 'normal', 'text': 'X Corp (Social Media)'}\n",
      "Matchning query:  Newsletter\n",
      "Best match: {'role': 'normal', 'text': 'Tech•sistence (Newsletter)'}\n"
     ]
    }
   ],
   "source": [
    "for query in queries:\n",
    "    print(\"Matchning query: \", query)\n",
    "    res = vector_service.search(\"emb-01\", query, 3)\n",
    "    print(f\"Best match: {res[0].payload}\")"
   ]
  },
  {
   "cell_type": "code",
   "execution_count": null,
   "metadata": {},
   "outputs": [],
   "source": []
  }
 ],
 "metadata": {
  "kernelspec": {
   "display_name": ".venv",
   "language": "python",
   "name": "python3"
  },
  "language_info": {
   "codemirror_mode": {
    "name": "ipython",
    "version": 3
   },
   "file_extension": ".py",
   "mimetype": "text/x-python",
   "name": "python",
   "nbconvert_exporter": "python",
   "pygments_lexer": "ipython3",
   "version": "3.12.7"
  }
 },
 "nbformat": 4,
 "nbformat_minor": 2
}
