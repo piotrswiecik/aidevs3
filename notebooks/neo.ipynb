{
 "cells": [
  {
   "cell_type": "code",
   "execution_count": 5,
   "metadata": {},
   "outputs": [],
   "source": [
    "from neo4j import GraphDatabase\n",
    "\n",
    "uri = \"neo4j://localhost:7687\"\n",
    "auth = (\"neo4j\", \"testtest\")\n",
    "\n",
    "with GraphDatabase.driver(uri, auth=auth) as driver:\n",
    "    driver.verify_connectivity()"
   ]
  },
  {
   "cell_type": "code",
   "execution_count": null,
   "metadata": {},
   "outputs": [
    {
     "name": "stdout",
     "output_type": "stream",
     "text": [
      "None\n"
     ]
    }
   ],
   "source": [
    "# write some data\n",
    "\n",
    "from uuid import uuid4\n",
    "\n",
    "def add_author_tx(tx, id, name):\n",
    "    qry = \"\"\"\n",
    "    MERGE (a:Author {\n",
    "        authorId: $id,\n",
    "        name: $name\n",
    "    })\n",
    "    \"\"\"\n",
    "    return tx.run(qry, id=id, name=name)\n",
    "\n",
    "def add_book_tx(tx, id, title, pages):\n",
    "    qry = \"\"\"\n",
    "    MERGE (b:Book {\n",
    "        bookId: $id,\n",
    "        title: $title,\n",
    "        pages: $pages\n",
    "    })\n",
    "    \"\"\"\n",
    "    return tx.run(qry, id=id, title=title, pages=pages)\n",
    "\n",
    "def add_book(tx, title, author, pages):\n",
    "    bookId = str(uuid4())\n",
    "    authorId = str(uuid4())\n",
    "    add_book_tx(tx, id=bookId, title=title, pages=pages)\n",
    "    add_author_tx(tx, id=authorId, name=author)\n",
    "\n",
    "    res = tx.run(\"\"\"\n",
    "    MATCH (a:Author {authorId:$authorId})\n",
    "    MATCH (b:Book {bookId:$bookId})\n",
    "    MERGE (a)-[r:WROTE]->(b)\n",
    "    \"\"\", authorId=authorId, bookId=bookId)\n",
    "    return res.single()\n",
    "\n",
    "with GraphDatabase.driver(uri, auth=auth) as driver:\n",
    "    with driver.session(database=\"neo4j\") as session:\n",
    "        title = \"1Q84\"\n",
    "        author = \"Haruki Murakami\"\n",
    "        pages = 900\n",
    "        session.execute_write(add_book, title, author, pages)\n",
    "\n"
   ]
  },
  {
   "cell_type": "code",
   "execution_count": 17,
   "metadata": {},
   "outputs": [
    {
     "name": "stdout",
     "output_type": "stream",
     "text": [
      "<Record Author='Haruki Murakami' Book='1Q84'>\n"
     ]
    }
   ],
   "source": [
    "# query data\n",
    "\n",
    "def who_wrote(tx, title):\n",
    "    qry = \"\"\"\n",
    "    MATCH (a:Author)-[r:WROTE]->(b:Book {title:$title})\n",
    "    RETURN a.name as Author, b.title as Book;\n",
    "    \"\"\"\n",
    "    res = tx.run(qry, title)\n",
    "    return res.single()\n",
    "\n",
    "with GraphDatabase.driver(uri, auth=auth) as driver:\n",
    "    with driver.session(database=\"neo4j\") as session:\n",
    "        res = session.execute_read(who_wrote, {\"title\": \"1Q84\"})\n",
    "        print(res)"
   ]
  }
 ],
 "metadata": {
  "kernelspec": {
   "display_name": ".venv",
   "language": "python",
   "name": "python3"
  },
  "language_info": {
   "codemirror_mode": {
    "name": "ipython",
    "version": 3
   },
   "file_extension": ".py",
   "mimetype": "text/x-python",
   "name": "python",
   "nbconvert_exporter": "python",
   "pygments_lexer": "ipython3",
   "version": "3.12.7"
  }
 },
 "nbformat": 4,
 "nbformat_minor": 2
}
