{
 "cells": [
  {
   "cell_type": "markdown",
   "metadata": {},
   "source": [
    "# Maps homework\n",
    "\n",
    "S02E02 task"
   ]
  },
  {
   "cell_type": "code",
   "execution_count": 33,
   "metadata": {},
   "outputs": [],
   "source": [
    "system_prompt = \"\"\"\n",
    "You are a map assistant.\n",
    "\n",
    "I have four photos of map fragments that depict different elements of a city.\n",
    "The maps contain information such as street names, landmarks, significant buildings.\n",
    "\n",
    "Your task is to analyze all fragments, compare them and try to determine the city name.\n",
    "\n",
    "There is an additional problem to take into account - one of fragments might belong to another city.\n",
    "It's not known in advance which one it is. So the final decision must be made based on three fragments that are\n",
    "coherent and point to the same city.\n",
    "\n",
    "Analyze each image, identifying any text, especially street or district names.\n",
    "Based on the gathered information, determine the name of the primary city shown on the map,\n",
    "while noting if any fragment appears to differ significantly and may belong to another city.\n",
    "\n",
    "Consider each image carefully and write down your train of thought in points.\n",
    "Review those points before giving final answer to minimize probability of any mistakes.\n",
    "\n",
    "Expected Result:\n",
    "Name of primary city.\n",
    "\n",
    "Hint: according to additional information the city contains characteristic landmarks: a granary and a fortress.\n",
    "\"\"\""
   ]
  },
  {
   "cell_type": "code",
   "execution_count": 34,
   "metadata": {},
   "outputs": [],
   "source": [
    "from pathlib import Path\n",
    "from PIL import Image\n",
    "import os\n",
    "import base64\n",
    "import io\n",
    "\n",
    "def image_loader():\n",
    "    _paths = [\n",
    "        \"data/img/map01.png\",\n",
    "        \"data/img/map02.png\",\n",
    "        \"data/img/map03.png\",\n",
    "        \"data/img/map04.png\"\n",
    "    ]\n",
    "\n",
    "    _paths = [\n",
    "        Path(os.getcwd()).parent / Path(path) for path in _paths\n",
    "    ]\n",
    "\n",
    "    _images = []\n",
    "    for path in _paths:\n",
    "        _images.append(Image.open(path))\n",
    "    return _images\n",
    "\n",
    "def image_processor(images):\n",
    "    return [image.resize((800, 800)) for image in images]\n",
    "\n",
    "def image_to_base64(image):\n",
    "    buffer = io.BytesIO()\n",
    "    image.save(buffer, format=\"PNG\")\n",
    "    return base64.b64encode(buffer.getvalue()).decode()"
   ]
  },
  {
   "cell_type": "code",
   "execution_count": 35,
   "metadata": {},
   "outputs": [],
   "source": [
    "images = image_loader()\n",
    "images = image_processor(images)\n",
    "images = [image_to_base64(image) for image in images]"
   ]
  },
  {
   "cell_type": "code",
   "execution_count": 36,
   "metadata": {},
   "outputs": [],
   "source": [
    "from langchain_mistralai import ChatMistralAI\n",
    "from langchain_openai import ChatOpenAI\n",
    "from langchain_core.messages import HumanMessage, SystemMessage\n",
    "\n",
    "\n",
    "model = ChatMistralAI(model=\"pixtral-12b-2409\", temperature=0.0)\n",
    "openai = ChatOpenAI(model=\"gpt-4o\", temperature=0.1)\n",
    "\n",
    "system_message = SystemMessage(content=system_prompt)\n",
    "\n",
    "def create_user_message(images):\n",
    "    message = HumanMessage(\n",
    "        content=[\n",
    "            {\"type\": \"text\", \"text\": \"analyze these images as instructed in system message\"},\n",
    "        ],\n",
    "    )\n",
    "    for image in images:\n",
    "        message.content.append({\n",
    "            \"type\": \"image_url\",\n",
    "            \"image_url\": {\"url\": f\"data:image/jpeg;base64,{image}\"}\n",
    "        })\n",
    "    return message\n",
    "\n",
    "user_message = create_user_message(images)"
   ]
  },
  {
   "cell_type": "code",
   "execution_count": 37,
   "metadata": {},
   "outputs": [],
   "source": [
    "mistral_res = model.invoke([system_message, user_message])"
   ]
  },
  {
   "cell_type": "code",
   "execution_count": 38,
   "metadata": {},
   "outputs": [],
   "source": [
    "gpt_res = openai.invoke([system_message, user_message])"
   ]
  },
  {
   "cell_type": "code",
   "execution_count": 39,
   "metadata": {},
   "outputs": [],
   "source": [
    "from langchain_core.output_parsers import StrOutputParser\n",
    "\n",
    "parser = StrOutputParser()"
   ]
  },
  {
   "cell_type": "code",
   "execution_count": 40,
   "metadata": {},
   "outputs": [
    {
     "name": "stdout",
     "output_type": "stream",
     "text": [
      "(\"To determine the primary city depicted in the map fragments, let's analyze \"\n",
      " 'each image:\\n'\n",
      " '\\n'\n",
      " '1. **First Image:**\\n'\n",
      " '   - Street names: Kalinkowa, Brzeźna, Chełmińska, Chopina.\\n'\n",
      " '   - These names suggest a Polish city, as they are typical Polish street '\n",
      " 'names.\\n'\n",
      " '\\n'\n",
      " '2. **Second Image:**\\n'\n",
      " '   - Street names: Kalinowska, Konstantego Ildefonsa Gałczyńskiego, Stroma, '\n",
      " 'Władysława Reymonta.\\n'\n",
      " '   - Again, these are Polish names, reinforcing the likelihood of a Polish '\n",
      " 'city.\\n'\n",
      " '\\n'\n",
      " '3. **Third Image:**\\n'\n",
      " '   - Street names: Poznań, Twardowskiego, Dworska, Słowiańska, Sawczaka.\\n'\n",
      " '   - The presence of a store named \"Lewiatan\" and \"Żabka\" suggests a Polish '\n",
      " 'context, as these are common Polish retail chains.\\n'\n",
      " '\\n'\n",
      " '4. **Fourth Image:**\\n'\n",
      " '   - Street names: Parkowa, Cmentarna, Generała.\\n'\n",
      " '   - Mentions \"Cmentarz ewangelicko-augsburski\" (Evangelical-Augsburg '\n",
      " 'Cemetery), which is a type of cemetery found in Poland.\\n'\n",
      " '   - Road number 534 is visible, which is a regional road in Poland.\\n'\n",
      " '\\n'\n",
      " '**Conclusion:**\\n'\n",
      " '- The consistent presence of Polish street names and landmarks across the '\n",
      " 'images suggests a Polish city.\\n'\n",
      " '- The mention of a granary and a fortress as characteristic landmarks aligns '\n",
      " 'with the city of **Grudziądz**, known for its historic granaries and '\n",
      " 'fortress.\\n'\n",
      " '\\n'\n",
      " 'Thus, the primary city depicted in the map fragments is likely '\n",
      " '**Grudziądz**.')\n"
     ]
    }
   ],
   "source": [
    "from pprint import pprint\n",
    "\n",
    "pprint(parser.invoke(gpt_res))"
   ]
  },
  {
   "cell_type": "code",
   "execution_count": null,
   "metadata": {},
   "outputs": [],
   "source": []
  }
 ],
 "metadata": {
  "kernelspec": {
   "display_name": ".venv",
   "language": "python",
   "name": "python3"
  },
  "language_info": {
   "codemirror_mode": {
    "name": "ipython",
    "version": 3
   },
   "file_extension": ".py",
   "mimetype": "text/x-python",
   "name": "python",
   "nbconvert_exporter": "python",
   "pygments_lexer": "ipython3",
   "version": "3.12.7"
  }
 },
 "nbformat": 4,
 "nbformat_minor": 2
}
