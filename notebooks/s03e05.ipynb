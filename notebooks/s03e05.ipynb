{
 "cells": [
  {
   "cell_type": "code",
   "execution_count": null,
   "metadata": {},
   "outputs": [],
   "source": [
    "import os\n",
    "import httpx\n",
    "\n",
    "from pydantic import BaseModel\n",
    "from typing import Optional, Any\n",
    "\n",
    "from dotenv import load_dotenv\n",
    "load_dotenv()"
   ]
  },
  {
   "cell_type": "code",
   "execution_count": null,
   "metadata": {},
   "outputs": [],
   "source": [
    "db_url = f\"{os.environ.get(\"AG3NTS_CENTRALA_URL\")}/apidb\"\n",
    "api_key = os.environ.get(\"AG3NTS_API_KEY\")"
   ]
  },
  {
   "cell_type": "code",
   "execution_count": null,
   "metadata": {},
   "outputs": [],
   "source": [
    "class ApiDbQuery(BaseModel):\n",
    "    task: Optional[str] = \"database\"\n",
    "    apikey: Optional[str] = api_key\n",
    "    query: str\n",
    "\n",
    "class ApiDbResponse(BaseModel):\n",
    "    reply: Any\n",
    "    error: str\n",
    "\n",
    "def query_db(query: str):\n",
    "    \"\"\"Send prompt to ApiDb\"\"\"\n",
    "    data = ApiDbQuery(query=query)\n",
    "    response = httpx.post(db_url, data=data.model_dump_json())\n",
    "    return ApiDbResponse(**response.json())"
   ]
  },
  {
   "cell_type": "code",
   "execution_count": null,
   "metadata": {},
   "outputs": [],
   "source": [
    "\n",
    "# contains connection pairs as {\"user1_id\": id1, \"user2_id\": id2}\n",
    "connections_db = query_db(\"select * from connections\")\n",
    "\n",
    "# contains users as {\"id\": id, \"username\": u, \"access_level\": a, \"is_active\": i, \"lastlog\": l}\n",
    "users_db = query_db(\"select * from users\")"
   ]
  },
  {
   "cell_type": "code",
   "execution_count": null,
   "metadata": {},
   "outputs": [],
   "source": [
    "# use objects for convenience\n",
    "\n",
    "class Connection(BaseModel):\n",
    "    user1_id: int\n",
    "    user2_id: int\n",
    "\n",
    "class User(BaseModel):\n",
    "    id: int\n",
    "    username: str\n",
    "    access_level: str\n",
    "    is_active: int\n",
    "    lastlog: str\n",
    "\n",
    "connections = [\n",
    "    Connection(**conn) for conn in connections_db.reply\n",
    "]\n",
    "\n",
    "users = [\n",
    "    User(**user) for user in users_db.reply\n",
    "]"
   ]
  },
  {
   "cell_type": "code",
   "execution_count": null,
   "metadata": {},
   "outputs": [],
   "source": [
    "# define database settings and set imports\n",
    "\n",
    "from neo4j import GraphDatabase\n",
    "\n",
    "uri = \"neo4j://localhost:7687\"\n",
    "auth = (\"neo4j\", \"testtest\")"
   ]
  },
  {
   "cell_type": "code",
   "execution_count": null,
   "metadata": {},
   "outputs": [],
   "source": [
    "# define functions to interact with database\n",
    "# those functions can be used by LLM as tools or manually to organize the data\n",
    "\n",
    "def add_user_tx(tx, user: User):\n",
    "    qry = \"\"\"\n",
    "    MERGE (u:User {\n",
    "        id: $id,\n",
    "        username: $username,\n",
    "        accessLevel: $access_level,\n",
    "        isActive: $is_active,\n",
    "        lastlog: $lastlog\n",
    "    })\n",
    "    \"\"\"\n",
    "    return tx.run(\n",
    "        qry, id=user.id, username=user.username, access_level=user.access_level,\n",
    "        is_active=user.is_active, lastlog=user.lastlog\n",
    "    )\n",
    "\n",
    "def add_user_relationship(tx, user_a: int, user_b: int):\n",
    "    qry = \"\"\"\n",
    "    MATCH (ua:User {id:$id_a})\n",
    "    MATCH (ub:User {id:$id_b})\n",
    "    MERGE (ua)-[r:KNOWS]->(ub)\n",
    "    \"\"\"\n",
    "    return tx.run(qry, id_a=user_a, id_b=user_b)"
   ]
  },
  {
   "cell_type": "code",
   "execution_count": null,
   "metadata": {},
   "outputs": [],
   "source": [
    "# add all users to database\n",
    "\n",
    "with GraphDatabase.driver(uri, auth=auth) as driver:\n",
    "    with driver.session(database=\"neo4j\") as session:\n",
    "        for user in users:\n",
    "            session.execute_write(add_user_tx, user=user)"
   ]
  },
  {
   "cell_type": "code",
   "execution_count": null,
   "metadata": {},
   "outputs": [],
   "source": [
    "# add user relationships to database\n",
    "\n",
    "with GraphDatabase.driver(uri, auth=auth) as driver:\n",
    "    with driver.session(database=\"neo4j\") as session:\n",
    "        for conn in connections:\n",
    "            session.execute_write(add_user_relationship, user_a=conn.user1_id, user_b=conn.user2_id)"
   ]
  },
  {
   "cell_type": "code",
   "execution_count": null,
   "metadata": {},
   "outputs": [],
   "source": [
    "# query the database to find the shortest path from user_a to user_b\n",
    "\n",
    "def find_shortest_path_tx(tx, id_a: int, id_b: int):\n",
    "    qry = \"\"\"\n",
    "    MATCH p = shortestPath((ua:User)-[:KNOWS*]->(ub:User))\n",
    "    WHERE ua.id = $id_a AND ub.id = $id_b\n",
    "    RETURN p AS result\n",
    "    \"\"\"\n",
    "    result = tx.run(qry, id_a=id_a, id_b=id_b)\n",
    "    return result.single()"
   ]
  },
  {
   "cell_type": "code",
   "execution_count": null,
   "metadata": {},
   "outputs": [],
   "source": [
    "user_a = list(filter(lambda user: user.username == \"Rafał\", users))[0]\n",
    "user_b = list(filter(lambda user: user.username == \"Barbara\", users))[0]\n",
    "\n",
    "with GraphDatabase.driver(uri, auth=auth) as driver:\n",
    "    with driver.session(database=\"neo4j\") as session:\n",
    "        result = session.execute_read(find_shortest_path_tx, id_a=user_a.id, id_b=user_b.id)\n",
    "        print(result)"
   ]
  },
  {
   "cell_type": "code",
   "execution_count": null,
   "metadata": {},
   "outputs": [],
   "source": [
    "answer_a = \", \".join([\n",
    "    item[1]\n",
    "    for node in result[\"result\"].nodes\n",
    "    for item in node.items()\n",
    "    if item[0] == \"username\"\n",
    "])"
   ]
  },
  {
   "cell_type": "code",
   "execution_count": null,
   "metadata": {},
   "outputs": [],
   "source": [
    "answer_a"
   ]
  },
  {
   "cell_type": "code",
   "execution_count": null,
   "metadata": {},
   "outputs": [],
   "source": [
    "from aidevs3.poligon import send\n",
    "\n",
    "load_dotenv()\n",
    "\n",
    "key = os.environ.get(\"AG3NTS_API_KEY\")\n",
    "url = f\"{os.environ.get(\"AG3NTS_CENTRALA_URL\")}/report\"\n",
    "\n",
    "res = send(url, answer=answer_a, apikey=key, task=\"connections\")\n",
    "print(res)"
   ]
  }
 ],
 "metadata": {
  "kernelspec": {
   "display_name": ".venv",
   "language": "python",
   "name": "python3"
  },
  "language_info": {
   "codemirror_mode": {
    "name": "ipython",
    "version": 3
   },
   "file_extension": ".py",
   "mimetype": "text/x-python",
   "name": "python",
   "nbconvert_exporter": "python",
   "pygments_lexer": "ipython3",
   "version": "3.12.7"
  }
 },
 "nbformat": 4,
 "nbformat_minor": 2
}
