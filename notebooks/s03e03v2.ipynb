{
 "cells": [
  {
   "cell_type": "code",
   "execution_count": 13,
   "metadata": {},
   "outputs": [
    {
     "data": {
      "text/plain": [
       "True"
      ]
     },
     "execution_count": 13,
     "metadata": {},
     "output_type": "execute_result"
    }
   ],
   "source": [
    "import ollama\n",
    "import httpx\n",
    "import os\n",
    "import json\n",
    "from typing import Optional\n",
    "from pydantic import BaseModel\n",
    "\n",
    "from dotenv import load_dotenv\n",
    "load_dotenv()\n"
   ]
  },
  {
   "cell_type": "code",
   "execution_count": 40,
   "metadata": {},
   "outputs": [
    {
     "name": "stdout",
     "output_type": "stream",
     "text": [
      "Hello! How can I assist you with your test? Feel free to ask any questions or let me know if you need help with anything specific.\n"
     ]
    }
   ],
   "source": [
    "def ollama_query(user_prompt, system_prompt=None, temperature=0.8):\n",
    "    messages = [\n",
    "        {\"role\": \"user\", \"content\": user_prompt},\n",
    "    ]\n",
    "    if system_prompt:\n",
    "        messages.append({\"role\": \"system\", \"content\": system_prompt})\n",
    "    if temperature:\n",
    "        options = {\"temperature\": temperature}\n",
    "    response = ollama.chat(\n",
    "        model=\"qwen2.5-coder:32b\",\n",
    "        messages=messages,\n",
    "        options=options or {}\n",
    "    )\n",
    "    return response[\"message\"][\"content\"]\n",
    "\n",
    "test_ollama = ollama_query(\"Hello, this is a test.\", temperature=0.1)\n",
    "print(test_ollama)  "
   ]
  },
  {
   "cell_type": "code",
   "execution_count": 8,
   "metadata": {},
   "outputs": [],
   "source": [
    "db_url = f\"{os.environ.get(\"AG3NTS_CENTRALA_URL\")}/apidb\"\n",
    "api_key = os.environ.get(\"AG3NTS_API_KEY\")\n",
    "\n",
    "class ApiDbQuery(BaseModel):\n",
    "    task: Optional[str] = \"database\"\n",
    "    apikey: Optional[str] = api_key\n",
    "    query: str\n",
    "\n",
    "def query_db(query: str):\n",
    "    \"\"\"Send prompt to ApiDb\"\"\"\n",
    "    data = ApiDbQuery(query=query)\n",
    "    response = httpx.post(db_url, data=data.model_dump_json())\n",
    "    return response.json()\n",
    "\n",
    "def get_tables():\n",
    "    query = \"show tables\"\n",
    "    response = query_db(query)\n",
    "    return [value for item in response[\"reply\"] for value in item.values()]\n",
    "\n",
    "def get_table_layout(name):\n",
    "    query = f\"show create table {name}\"\n",
    "    response = query_db(query)\n",
    "    return {\n",
    "        \"name\": name,\n",
    "        \"layout\": response[\"reply\"][0][\"Create Table\"]\n",
    "    }"
   ]
  },
  {
   "cell_type": "code",
   "execution_count": null,
   "metadata": {},
   "outputs": [],
   "source": []
  },
  {
   "cell_type": "code",
   "execution_count": 9,
   "metadata": {},
   "outputs": [],
   "source": [
    "tables = get_tables()\n",
    "layouts = [get_table_layout(table) for table in tables]"
   ]
  },
  {
   "cell_type": "code",
   "execution_count": 14,
   "metadata": {},
   "outputs": [
    {
     "data": {
      "text/plain": [
       "'[{\"name\": \"connections\", \"layout\": \"CREATE TABLE `connections` (\\\\n  `user1_id` int(11) NOT NULL,\\\\n  `user2_id` int(11) NOT NULL,\\\\n  PRIMARY KEY (`user1_id`,`user2_id`)\\\\n) ENGINE=InnoDB DEFAULT CHARSET=utf8mb4 COLLATE=utf8mb4_general_ci\"}, {\"name\": \"correct_order\", \"layout\": \"CREATE TABLE `correct_order` (\\\\n  `base_id` int(11) DEFAULT NULL,\\\\n  `letter` char(1) DEFAULT NULL,\\\\n  `weight` int(11) DEFAULT 0\\\\n) ENGINE=InnoDB DEFAULT CHARSET=utf8mb4 COLLATE=utf8mb4_general_ci\"}, {\"name\": \"datacenters\", \"layout\": \"CREATE TABLE `datacenters` (\\\\n  `dc_id` int(11) DEFAULT NULL,\\\\n  `location` varchar(30) NOT NULL,\\\\n  `manager` int(11) NOT NULL DEFAULT 31,\\\\n  `is_active` int(11) DEFAULT 0\\\\n) ENGINE=InnoDB DEFAULT CHARSET=utf8mb4 COLLATE=utf8mb4_general_ci\"}, {\"name\": \"users\", \"layout\": \"CREATE TABLE `users` (\\\\n  `id` int(11) NOT NULL AUTO_INCREMENT,\\\\n  `username` varchar(20) DEFAULT NULL,\\\\n  `access_level` varchar(20) DEFAULT \\'user\\',\\\\n  `is_active` int(11) DEFAULT 1,\\\\n  `lastlog` date DEFAULT NULL,\\\\n  PRIMARY KEY (`id`)\\\\n) ENGINE=InnoDB AUTO_INCREMENT=98 DEFAULT CHARSET=utf8mb4 COLLATE=utf8mb4_general_ci\"}]'"
      ]
     },
     "execution_count": 14,
     "metadata": {},
     "output_type": "execute_result"
    }
   ],
   "source": [
    "json.dumps(layouts)"
   ]
  },
  {
   "cell_type": "code",
   "execution_count": 41,
   "metadata": {},
   "outputs": [],
   "source": [
    "system_prompt = f\"\"\"\n",
    "You are a helpful SQL query expert.\n",
    "Your first task is to analyze the database layout based on provided information.\n",
    "The information format is not known in advance. \n",
    "The only thing we know is that it will be structured as:\n",
    "{{\"name\": \"table name\", \"layout\": any information about the table}}\n",
    "The information will be labeled as <layout> by the user.\n",
    "\n",
    "Create a detailed summary of the database layout for your own reference.\n",
    "\n",
    "After you have analyzed the layout, your task will be to prepare an SQL query that will return IDs of all datacenters\n",
    "managed by managers who are currently on leave (their status is inactive).\n",
    "\n",
    "The query should be based on the provided database layout.\n",
    "It must take into account all kinds of relationship between tables - both explicitly defined and implicit.\n",
    "\n",
    "Build your answer ONLY based on provided information. Do not make ANY additional assumption about database structure or possible data values.\n",
    "\n",
    "After you have prepared the query, explain your reasoning in points and return the reasoning and the query.\n",
    "\"\"\"\n",
    "\n",
    "result = ollama_query(json.dumps(layouts), system_prompt, temperature=0.1)"
   ]
  },
  {
   "cell_type": "code",
   "execution_count": 42,
   "metadata": {},
   "outputs": [
    {
     "name": "stdout",
     "output_type": "stream",
     "text": [
      "('### Database Layout Summary\\n'\n",
      " '\\n'\n",
      " 'Based on the provided information, here is a detailed summary of the '\n",
      " 'database layout:\\n'\n",
      " '\\n'\n",
      " '1. **connections Table**\\n'\n",
      " '   - This table represents connections between users.\\n'\n",
      " '   - It has two columns: `user1_id` and `user2_id`, which are both integers '\n",
      " 'and serve as the primary key.\\n'\n",
      " '\\n'\n",
      " '2. **correct_order Table**\\n'\n",
      " '   - This table seems to be related to some kind of ordering or ranking '\n",
      " 'system.\\n'\n",
      " '   - It contains three columns:\\n'\n",
      " '     - `base_id`: An integer that might reference another table (possibly '\n",
      " '`datacenters`).\\n'\n",
      " '     - `letter`: A single character, possibly representing a category or '\n",
      " 'type.\\n'\n",
      " '     - `weight`: An integer that could represent the weight or priority of '\n",
      " 'the entry.\\n'\n",
      " '\\n'\n",
      " '3. **datacenters Table**\\n'\n",
      " '   - This table contains information about data centers.\\n'\n",
      " '   - It has four columns:\\n'\n",
      " '     - `dc_id`: An integer identifier for each data center.\\n'\n",
      " '     - `location`: A string representing the location of the data center.\\n'\n",
      " '     - `manager`: An integer that references a user in the `users` table, '\n",
      " 'indicating who manages the data center.\\n'\n",
      " '     - `is_active`: An integer flag (likely 0 or 1) indicating whether the '\n",
      " 'data center is active.\\n'\n",
      " '\\n'\n",
      " '4. **users Table**\\n'\n",
      " '   - This table contains information about users.\\n'\n",
      " '   - It has six columns:\\n'\n",
      " '     - `id`: A unique identifier for each user, set to auto-increment.\\n'\n",
      " '     - `username`: A string representing the username of the user.\\n'\n",
      " '     - `access_level`: A string indicating the access level of the user '\n",
      " \"(e.g., 'user', 'admin').\\n\"\n",
      " '     - `is_active`: An integer flag (likely 0 or 1) indicating whether the '\n",
      " 'user is active.\\n'\n",
      " '     - `lastlog`: A date field representing the last login date of the '\n",
      " 'user.\\n'\n",
      " '\\n'\n",
      " '### SQL Query to Find Datacenters Managed by Inactive Managers\\n'\n",
      " '\\n'\n",
      " 'To find the IDs of all data centers managed by managers who are currently on '\n",
      " 'leave (i.e., their status is inactive), we need to join the `datacenters` '\n",
      " \"table with the `users` table based on the manager's ID. We will then filter \"\n",
      " 'for users whose `is_active` status is 0.\\n'\n",
      " '\\n'\n",
      " 'Here is the SQL query:\\n'\n",
      " '\\n'\n",
      " '```sql\\n'\n",
      " 'SELECT dc_id\\n'\n",
      " 'FROM datacenters d\\n'\n",
      " 'JOIN users u ON d.manager = u.id\\n'\n",
      " 'WHERE u.is_active = 0;\\n'\n",
      " '```\\n'\n",
      " '\\n'\n",
      " '### Explanation of the Query\\n'\n",
      " '\\n'\n",
      " '1. **Join Operation**: \\n'\n",
      " '   - We perform an inner join between `datacenters` (aliased as `d`) and '\n",
      " '`users` (aliased as `u`) on the condition that `d.manager` equals `u.id`. '\n",
      " 'This links each data center to its corresponding manager.\\n'\n",
      " '\\n'\n",
      " '2. **Filter Condition**:\\n'\n",
      " '   - We filter the joined results to include only those rows where the '\n",
      " '`is_active` column in the `users` table is 0, indicating that the manager is '\n",
      " 'inactive (on leave).\\n'\n",
      " '\\n'\n",
      " '3. **Select Statement**:\\n'\n",
      " '   - Finally, we select the `dc_id` from the `datacenters` table for each '\n",
      " 'matching row, which gives us the IDs of all data centers managed by inactive '\n",
      " 'managers.\\n'\n",
      " '\\n'\n",
      " 'This query effectively leverages the relationship between the `datacenters` '\n",
      " 'and `users` tables to retrieve the desired information.')\n"
     ]
    }
   ],
   "source": [
    "from pprint import pprint\n",
    "\n",
    "pprint(result)"
   ]
  },
  {
   "cell_type": "code",
   "execution_count": 43,
   "metadata": {},
   "outputs": [],
   "source": [
    "system_prompt = f\"\"\"\n",
    "Your task is to parse the provided analysis and extract an SQL query from it.\n",
    "Reformat the query to be more readable and return it. \n",
    "Return only the query, with no additional comments or explanations or formatting so that\n",
    "it is directly usable for database operations.\n",
    "I don't want the response to contain any newlines, tabs, or extra spaces or whitespace characters.\n",
    "\"\"\"\n",
    "\n",
    "clean_query = ollama_query(result, system_prompt)"
   ]
  },
  {
   "cell_type": "code",
   "execution_count": 44,
   "metadata": {},
   "outputs": [
    {
     "data": {
      "text/plain": [
       "'SELECT dc_id FROM datacenters d JOIN users u ON d.manager = u.id WHERE u.is_active = 0'"
      ]
     },
     "execution_count": 44,
     "metadata": {},
     "output_type": "execute_result"
    }
   ],
   "source": [
    "qry = clean_query.strip(\"```\").strip(\"sql\")\n",
    "qry"
   ]
  },
  {
   "cell_type": "code",
   "execution_count": 53,
   "metadata": {},
   "outputs": [
    {
     "data": {
      "text/plain": [
       "{'reply': [{'dc_id': '4278'}, {'dc_id': '9294'}], 'error': 'OK'}"
      ]
     },
     "execution_count": 53,
     "metadata": {},
     "output_type": "execute_result"
    }
   ],
   "source": [
    "answer = query_db(qry)\n",
    "answer"
   ]
  },
  {
   "cell_type": "code",
   "execution_count": 54,
   "metadata": {},
   "outputs": [
    {
     "data": {
      "text/plain": [
       "[{'dc_id': '4278'}, {'dc_id': '9294'}]"
      ]
     },
     "execution_count": 54,
     "metadata": {},
     "output_type": "execute_result"
    }
   ],
   "source": [
    "answer = answer[\"reply\"]\n",
    "answer"
   ]
  },
  {
   "cell_type": "code",
   "execution_count": 55,
   "metadata": {},
   "outputs": [
    {
     "ename": "Exception",
     "evalue": "Failed to send data: {\n    \"code\": -302,\n    \"message\": \"wrong answer\"\n}",
     "output_type": "error",
     "traceback": [
      "\u001b[0;31m---------------------------------------------------------------------------\u001b[0m",
      "\u001b[0;31mException\u001b[0m                                 Traceback (most recent call last)",
      "Cell \u001b[0;32mIn[55], line 8\u001b[0m\n\u001b[1;32m      5\u001b[0m key \u001b[38;5;241m=\u001b[39m os\u001b[38;5;241m.\u001b[39menviron\u001b[38;5;241m.\u001b[39mget(\u001b[38;5;124m\"\u001b[39m\u001b[38;5;124mAG3NTS_API_KEY\u001b[39m\u001b[38;5;124m\"\u001b[39m)\n\u001b[1;32m      6\u001b[0m url \u001b[38;5;241m=\u001b[39m \u001b[38;5;124mf\u001b[39m\u001b[38;5;124m\"\u001b[39m\u001b[38;5;132;01m{\u001b[39;00mos\u001b[38;5;241m.\u001b[39menviron\u001b[38;5;241m.\u001b[39mget(\u001b[38;5;124m\"\u001b[39m\u001b[38;5;124mAG3NTS_CENTRALA_URL\u001b[39m\u001b[38;5;124m\"\u001b[39m)\u001b[38;5;132;01m}\u001b[39;00m\u001b[38;5;124m/report\u001b[39m\u001b[38;5;124m\"\u001b[39m\n\u001b[0;32m----> 8\u001b[0m res \u001b[38;5;241m=\u001b[39m \u001b[43msend\u001b[49m\u001b[43m(\u001b[49m\u001b[43murl\u001b[49m\u001b[43m,\u001b[49m\u001b[43m \u001b[49m\u001b[43manswer\u001b[49m\u001b[38;5;241;43m=\u001b[39;49m\u001b[43manswer\u001b[49m\u001b[43m,\u001b[49m\u001b[43m \u001b[49m\u001b[43mapikey\u001b[49m\u001b[38;5;241;43m=\u001b[39;49m\u001b[43mkey\u001b[49m\u001b[43m,\u001b[49m\u001b[43m \u001b[49m\u001b[43mtask\u001b[49m\u001b[38;5;241;43m=\u001b[39;49m\u001b[38;5;124;43m\"\u001b[39;49m\u001b[38;5;124;43mdatabase\u001b[39;49m\u001b[38;5;124;43m\"\u001b[39;49m\u001b[43m)\u001b[49m\n\u001b[1;32m      9\u001b[0m \u001b[38;5;28mprint\u001b[39m(res)\n",
      "File \u001b[0;32m~/ai/ai_devs/aidevs3/aidevs3/poligon.py:25\u001b[0m, in \u001b[0;36msend\u001b[0;34m(url, task, apikey, answer)\u001b[0m\n\u001b[1;32m     23\u001b[0m res \u001b[38;5;241m=\u001b[39m httpx\u001b[38;5;241m.\u001b[39mpost(url, json\u001b[38;5;241m=\u001b[39mpayload\u001b[38;5;241m.\u001b[39mmodel_dump())\n\u001b[1;32m     24\u001b[0m \u001b[38;5;28;01mif\u001b[39;00m res\u001b[38;5;241m.\u001b[39mstatus_code \u001b[38;5;241m!=\u001b[39m \u001b[38;5;241m200\u001b[39m:\n\u001b[0;32m---> 25\u001b[0m     \u001b[38;5;28;01mraise\u001b[39;00m \u001b[38;5;167;01mException\u001b[39;00m(\u001b[38;5;124mf\u001b[39m\u001b[38;5;124m\"\u001b[39m\u001b[38;5;124mFailed to send data: \u001b[39m\u001b[38;5;132;01m{\u001b[39;00mres\u001b[38;5;241m.\u001b[39mtext\u001b[38;5;132;01m}\u001b[39;00m\u001b[38;5;124m\"\u001b[39m)\n\u001b[1;32m     26\u001b[0m \u001b[38;5;28;01mreturn\u001b[39;00m res\u001b[38;5;241m.\u001b[39mjson()\n",
      "\u001b[0;31mException\u001b[0m: Failed to send data: {\n    \"code\": -302,\n    \"message\": \"wrong answer\"\n}"
     ]
    }
   ],
   "source": [
    "from aidevs3.poligon import send\n",
    "\n",
    "load_dotenv()\n",
    "\n",
    "key = os.environ.get(\"AG3NTS_API_KEY\")\n",
    "url = f\"{os.environ.get(\"AG3NTS_CENTRALA_URL\")}/report\"\n",
    "\n",
    "res = send(url, answer=answer, apikey=key, task=\"database\")\n",
    "print(res)"
   ]
  }
 ],
 "metadata": {
  "kernelspec": {
   "display_name": ".venv",
   "language": "python",
   "name": "python3"
  },
  "language_info": {
   "codemirror_mode": {
    "name": "ipython",
    "version": 3
   },
   "file_extension": ".py",
   "mimetype": "text/x-python",
   "name": "python",
   "nbconvert_exporter": "python",
   "pygments_lexer": "ipython3",
   "version": "3.12.7"
  }
 },
 "nbformat": 4,
 "nbformat_minor": 2
}
