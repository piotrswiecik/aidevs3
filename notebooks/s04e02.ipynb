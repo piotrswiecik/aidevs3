{
 "cells": [
  {
   "cell_type": "code",
   "execution_count": null,
   "metadata": {},
   "outputs": [],
   "source": [
    "import os\n",
    "from pathlib import Path"
   ]
  },
  {
   "cell_type": "code",
   "execution_count": null,
   "metadata": {},
   "outputs": [],
   "source": [
    "data_path = Path(os.getcwd()).parent / \"data\" / \"lab_data\"\n",
    "print(data_path)"
   ]
  },
  {
   "cell_type": "code",
   "execution_count": null,
   "metadata": {},
   "outputs": [],
   "source": [
    "import json\n",
    "\n",
    "sys_prompt = \"classify if according to your knowledge observation provided by user is correct or incorrect\"\n",
    "\n",
    "def to_jsonl_line(raw_input: str, correct: bool):\n",
    "    response = \"correct\" if correct else \"incorrect\"\n",
    "    line = {\n",
    "        \"messages\": [\n",
    "            {\"role\": \"system\", \"content\": \"classify if according to your knowledge observation provided by user is correct or incorrect\"},\n",
    "            {\"role\": \"user\", \"content\": f\"{raw_input}\"},\n",
    "            {\"role\": \"assistant\", \"content\": response}\n",
    "        ]\n",
    "    }\n",
    "    return json.dumps(line)"
   ]
  },
  {
   "cell_type": "code",
   "execution_count": null,
   "metadata": {},
   "outputs": [],
   "source": [
    "correct = []   \n",
    "incorrect = []\n",
    "\n",
    "with open(data_path / \"correct.txt\", \"r\") as data:\n",
    "    for line in data.readlines():\n",
    "        correct.append(to_jsonl_line(line.strip(), True))\n",
    "\n",
    "with open(data_path / \"incorrect.txt\", \"r\") as data:\n",
    "    for line in data.readlines():\n",
    "        correct.append(to_jsonl_line(line.strip(), False))\n",
    "\n",
    "with open(data_path / \"data.jsonl\", \"w\") as jl:\n",
    "    for line in [*correct, *incorrect]:\n",
    "        jl.write(f\"{line}\\n\")"
   ]
  },
  {
   "cell_type": "code",
   "execution_count": null,
   "metadata": {},
   "outputs": [],
   "source": [
    "from openai import OpenAI\n",
    "import os\n",
    "\n",
    "client = OpenAI(api_key=os.environ.get(\"OPENAI_API_KEY\"))\n",
    "\n",
    "# assert correct\n",
    "res = client.chat.completions.create(\n",
    "    model=\"ft:gpt-4o-mini-2024-07-18:personal:s04e02:AYa1qNCd\",\n",
    "    messages=[\n",
    "        {\"role\": \"system\", \"content\": sys_prompt},\n",
    "        {\"role\": \"user\", \"content\": \"94,-14,-46,88\"}\n",
    "    ]\n",
    ")\n",
    "\n",
    "msg = res.choices[0].message.content\n",
    "print(msg)\n",
    "\n",
    "# assert incorrect\n",
    "res = client.chat.completions.create(\n",
    "    model=\"ft:gpt-4o-mini-2024-07-18:personal:s04e02:AYa1qNCd\",\n",
    "    messages=[\n",
    "        {\"role\": \"system\", \"content\": sys_prompt},\n",
    "        {\"role\": \"user\", \"content\": \"75,-95,67,46\"}\n",
    "    ]\n",
    ")\n",
    "\n",
    "msg = res.choices[0].message.content\n",
    "print(msg)"
   ]
  },
  {
   "cell_type": "code",
   "execution_count": null,
   "metadata": {},
   "outputs": [],
   "source": [
    "# run on actual data\n",
    "\n",
    "verify = []\n",
    "with open(data_path / \"verify.txt\", \"r\") as data:\n",
    "    for line in data.readlines():\n",
    "        pair = line.strip().split(\"=\")\n",
    "        verify.append({\"key\": pair[0], \"value\": pair[1]})\n",
    "\n",
    "for i, item in enumerate(verify):\n",
    "    res = client.chat.completions.create(\n",
    "        model=\"ft:gpt-4o-mini-2024-07-18:personal:s04e02:AYa1qNCd\",\n",
    "        messages=[\n",
    "            {\"role\": \"system\", \"content\": sys_prompt},\n",
    "            {\"role\": \"user\", \"content\": str(item[\"value\"])}\n",
    "        ]\n",
    "    )\n",
    "    outcome = res.choices[0].message.content\n",
    "    verify[i][\"outcome\"] = outcome"
   ]
  },
  {
   "cell_type": "code",
   "execution_count": null,
   "metadata": {},
   "outputs": [],
   "source": [
    "answer = [\n",
    "    item[\"key\"]\n",
    "    for item in verify\n",
    "    if item[\"outcome\"] == \"correct\"\n",
    "]"
   ]
  },
  {
   "cell_type": "code",
   "execution_count": null,
   "metadata": {},
   "outputs": [],
   "source": [
    "from aidevs3.poligon import send\n",
    "\n",
    "from dotenv import load_dotenv\n",
    "load_dotenv()\n",
    "\n",
    "key = os.environ.get(\"AG3NTS_API_KEY\")\n",
    "url = f\"{os.environ.get(\"AG3NTS_CENTRALA_URL\")}/report\"\n",
    "\n",
    "res = send(url, answer=answer, apikey=key, task=\"research\")\n",
    "print(res)"
   ]
  },
  {
   "cell_type": "code",
   "execution_count": null,
   "metadata": {},
   "outputs": [],
   "source": []
  }
 ],
 "metadata": {
  "kernelspec": {
   "display_name": ".venv",
   "language": "python",
   "name": "python3"
  },
  "language_info": {
   "codemirror_mode": {
    "name": "ipython",
    "version": 3
   },
   "file_extension": ".py",
   "mimetype": "text/x-python",
   "name": "python",
   "nbconvert_exporter": "python",
   "pygments_lexer": "ipython3",
   "version": "3.12.7"
  }
 },
 "nbformat": 4,
 "nbformat_minor": 2
}
