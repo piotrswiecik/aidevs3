{
 "cells": [
  {
   "cell_type": "markdown",
   "metadata": {},
   "source": [
    "# S02E03"
   ]
  },
  {
   "cell_type": "code",
   "execution_count": null,
   "metadata": {},
   "outputs": [],
   "source": [
    "from dotenv import load_dotenv\n",
    "from openai import OpenAI\n",
    "import os\n",
    "import httpx\n",
    "\n",
    "load_dotenv()"
   ]
  },
  {
   "cell_type": "code",
   "execution_count": null,
   "metadata": {},
   "outputs": [],
   "source": [
    "centrala = os.environ.get(\"AG3NTS_CENTRALA_URL\")\n",
    "key = os.environ.get(\"AG3NTS_API_KEY\")\n",
    "\n",
    "url = f\"{centrala}/data/{key}/robotid.json\""
   ]
  },
  {
   "cell_type": "code",
   "execution_count": null,
   "metadata": {},
   "outputs": [],
   "source": [
    "def get_content(url):\n",
    "    try:\n",
    "        response = httpx.get(url)\n",
    "        response.raise_for_status()\n",
    "        payload = response.json()\n",
    "        return payload[\"description\"]\n",
    "    except Exception as e:\n",
    "        print(e)\n",
    "        return None"
   ]
  },
  {
   "cell_type": "code",
   "execution_count": null,
   "metadata": {},
   "outputs": [],
   "source": [
    "description = get_content(url)"
   ]
  },
  {
   "cell_type": "code",
   "execution_count": null,
   "metadata": {},
   "outputs": [],
   "source": [
    "client = OpenAI()"
   ]
  },
  {
   "cell_type": "code",
   "execution_count": null,
   "metadata": {},
   "outputs": [],
   "source": [
    "meta_prompt = f\"\"\"\n",
    "Twoim zadaniem jest zbudowanie prompt służącego do generowania obrazu przez model DALL-E-3 \n",
    "w oparciu o podane przez użytkowanika informacje zawierające opis robota.\n",
    "Przeanalizuj informacje i stwórz odpowiedni prompt zawierający najbardziej istotne cechy robota.\n",
    "Skup się na wyglądzie. Pomiń informacje, które nie mają wpływu na wygląd robota.\n",
    "\"\"\"\n",
    "\n",
    "engineered_prompt = client.chat.completions.create(\n",
    "    model=\"gpt-4o-mini\",\n",
    "    messages=[\n",
    "        {\"role\": \"system\", \"content\": meta_prompt},\n",
    "        {\"role\": \"user\", \"content\": description},\n",
    "    ],\n",
    ").choices[0].message.content"
   ]
  },
  {
   "cell_type": "code",
   "execution_count": null,
   "metadata": {},
   "outputs": [],
   "source": [
    "generation = client.images.generate(\n",
    "    model=\"dall-e-3\",\n",
    "    prompt=engineered_prompt,\n",
    "    size=\"1024x1024\",\n",
    "    quality=\"standard\",\n",
    "    n=1\n",
    ")\n",
    "\n",
    "image_url = generation.data[0].url"
   ]
  },
  {
   "cell_type": "code",
   "execution_count": null,
   "metadata": {},
   "outputs": [],
   "source": [
    "image_url"
   ]
  },
  {
   "cell_type": "code",
   "execution_count": null,
   "metadata": {},
   "outputs": [],
   "source": [
    "from aidevs3.poligon import send\n",
    "\n",
    "verification_url = f\"{centrala}/report\"\n",
    "key = os.environ.get(\"AG3NTS_API_KEY\")\n",
    "\n",
    "res = send(verification_url, task=\"robotid\", apikey=key, answer=image_url)"
   ]
  }
 ],
 "metadata": {
  "kernelspec": {
   "display_name": ".venv",
   "language": "python",
   "name": "python3"
  },
  "language_info": {
   "codemirror_mode": {
    "name": "ipython",
    "version": 3
   },
   "file_extension": ".py",
   "mimetype": "text/x-python",
   "name": "python",
   "nbconvert_exporter": "python",
   "pygments_lexer": "ipython3",
   "version": "3.12.7"
  }
 },
 "nbformat": 4,
 "nbformat_minor": 2
}
